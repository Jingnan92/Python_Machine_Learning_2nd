{
 "cells": [
  {
   "cell_type": "markdown",
   "metadata": {},
   "source": [
    "# Logistic Regression"
   ]
  },
  {
   "cell_type": "markdown",
   "metadata": {},
   "source": [
    "## A probabilistic model:\n",
    "\n",
    "1. Odds ratio: $\\frac{p}{1-p}$\n",
    "2. Logit function: $logit(p) = log \\frac{p}{1-p}$ \\\n",
    "Logit fuction takes as input values in the range 0 to 1 and transforms them to values over the entire real-number range:\n",
    "$logit(p(y=1|x)) = w^Tx$\n",
    "3. Logistic sigmoid function: $\\phi(z) = \\frac{1}{1+e^{-z}}$, where $z = w^Tx$ \\\n",
    "$$ \\hat{y} =  \\begin{cases}\n",
    "    1 & if\\phi(z) \\geq 0.5 \\\\\n",
    "    0 & otherwise\n",
    "        \\end{cases}  $  \n",
    "$ \\hat{y} =  \\begin{cases}\n",
    "    1 & if z \\geq 0.0 \\\\\n",
    "    0 & otherwise\n",
    "        \\end{cases}  $$"
   ]
  },
  {
   "cell_type": "code",
   "execution_count": 2,
   "metadata": {},
   "outputs": [
    {
     "data": {
      "image/png": "[encoded data removed]",
      "text/plain": [
       "<Figure size 432x288 with 1 Axes>"
      ]
     },
     "metadata": {
      "needs_background": "light"
     },
     "output_type": "display_data"
    }
   ],
   "source": [
    "# Sigmoid function\n",
    "\n",
    "import matplotlib.pyplot as plt\n",
    "import numpy as np\n",
    "\n",
    "def sigmoid(z):\n",
    "    return 1.0 / (1.0 + np.exp(-z))\n",
    "\n",
    "z = np.arange(-7, 7, 0.1)\n",
    "phi_z = sigmoid(z)\n",
    "\n",
    "plt.plot(z, phi_z)\n",
    "plt.axvline(0.0, color='k')\n",
    "plt.ylim(-0.1, 1.1)\n",
    "plt.xlabel('z')\n",
    "plt.ylabel('$\\phi (z)$')\n",
    "\n",
    "# y axis ticks and gridline\n",
    "plt.yticks([0.0, 0.5, 1.0])\n",
    "ax = plt.gca()\n",
    "ax.yaxis.grid(True)\n",
    "\n",
    "plt.tight_layout()\n",
    "plt.show()"
   ]
  },
  {
   "cell_type": "markdown",
   "metadata": {},
   "source": [
    "## Cost function\n",
    "$J(w) = \\sum_{i} \\frac{1}{2}(\\phi(z^{(i)} - y^{(i)})^2$  \\\n",
    "$J(w) = \\sum_{i=1}^n [-y^{(i)}log(\\phi(z^{(i)}))-(1-y^{(i)})log(1-\\phi(z^{(i)}))]$ \\\n",
    "It penalizes wrong predictions with an increasingly larger cost."
   ]
  },
  {
   "cell_type": "code",
   "execution_count": 4,
   "metadata": {},
   "outputs": [
    {
     "data": {
      "image/png": "[encoded data removed]",
      "text/plain": [
       "<Figure size 432x288 with 1 Axes>"
      ]
     },
     "metadata": {
      "needs_background": "light"
     },
     "output_type": "display_data"
    }
   ],
   "source": [
    "# plot the cost function\n",
    "def cost_1(z):\n",
    "    return - np.log(sigmoid(z))\n",
    "\n",
    "\n",
    "def cost_0(z):\n",
    "    return - np.log(1 - sigmoid(z))\n",
    "\n",
    "z = np.arange(-10, 10, 0.1)\n",
    "phi_z = sigmoid(z)\n",
    "\n",
    "c1 = [cost_1(x) for x in z]\n",
    "plt.plot(phi_z, c1, label='J(w) if y=1')\n",
    "\n",
    "c0 = [cost_0(x) for x in z]\n",
    "plt.plot(phi_z, c0, linestyle='--', label='J(w) if y=0')\n",
    "\n",
    "plt.ylim(0.0, 5.1)\n",
    "plt.xlim([0, 1])\n",
    "plt.xlabel('$\\phi$(z)')\n",
    "plt.ylabel('J(w)')\n",
    "plt.legend(loc='best')\n",
    "plt.tight_layout()\n",
    "plt.show()"
   ]
  },
  {
   "cell_type": "markdown",
   "metadata": {},
   "source": [
    "## Logistic regression in sklearn\n",
    "\n",
    "sklearn.linear_model.LogisticRegression(penalty='l2', *, dual=False, tol=0.0001, C=1.0, fit_intercept=True, intercept_scaling=1, class_weight=None, random_state=None, solver='lbfgs', max_iter=100, multi_class='auto', verbose=0, warm_start=False, n_jobs=None, l1_ratio=None)\n",
    "\n",
    "- penalty: 'l1’, ‘l2’, ‘elasticnet’, ‘none’\n",
    "- C: Inverse of regularization strength\n",
    "\n",
    "attributes:\n",
    "- coef_0"
   ]
  },
  {
   "cell_type": "code",
   "execution_count": 5,
   "metadata": {},
   "outputs": [],
   "source": [
    "# Iris data with standardization\n",
    "from sklearn import datasets\n",
    "import numpy as np\n",
    "\n",
    "iris = datasets.load_iris()\n",
    "X = iris.data[:, [2, 3]]\n",
    "y = iris.target\n",
    "\n",
    "from sklearn.model_selection import train_test_split\n",
    "\n",
    "X_train, X_test, y_train, y_test = train_test_split(X, y, test_size=0.3, random_state=1, stratify=y)\n",
    "\n",
    "from sklearn.preprocessing import StandardScaler\n",
    "\n",
    "sc = StandardScaler()\n",
    "sc.fit(X_train)\n",
    "X_train_std = sc.transform(X_train)\n",
    "X_test_std = sc.transform(X_test)"
   ]
  },
  {
   "cell_type": "code",
   "execution_count": 6,
   "metadata": {},
   "outputs": [
    {
     "data": {
      "text/plain": [
       "array([2, 0, 0, 1, 1, 1, 2, 1, 2, 0, 0, 2, 0, 1, 0, 1, 2, 1, 1, 2, 2, 0,\n",
       "       1, 2, 1, 1, 1, 2, 0, 2, 0, 0, 1, 1, 2, 2, 0, 0, 0, 1, 2, 2, 1, 0,\n",
       "       0])"
      ]
     },
     "execution_count": 6,
     "metadata": {},
     "output_type": "execute_result"
    }
   ],
   "source": [
    "from sklearn.linear_model import LogisticRegression\n",
    "lr = LogisticRegression(C = 100.0, random_state = 1)\n",
    "lr.fit(X_train_std, y_train)\n",
    "lr.predict(X_test_std)"
   ]
  },
  {
   "cell_type": "markdown",
   "metadata": {},
   "source": [
    "**Note:** one of the biggest advantages of logistic regression model is that it allows us to derive the conditional probatilities."
   ]
  },
  {
   "cell_type": "code",
   "execution_count": 8,
   "metadata": {},
   "outputs": [
    {
     "data": {
      "text/plain": [
       "array([2, 0, 0, 1, 1, 1, 2, 1, 2, 0, 0, 2, 0, 1, 0, 1, 2, 1, 1, 2, 2, 0,\n",
       "       1, 2, 1, 1, 1, 2, 0, 2, 0, 0, 1, 1, 2, 2, 0, 0, 0, 1, 2, 2, 1, 0,\n",
       "       0])"
      ]
     },
     "execution_count": 8,
     "metadata": {},
     "output_type": "execute_result"
    }
   ],
   "source": [
    "# probability that a sample belongs to a certain class\n",
    "lr.predict_proba(X_test_std)  #get predicted probability\n",
    "lr.predict_proba(X_test_std).argmax(axis = 1) #get predicted label"
   ]
  },
  {
   "cell_type": "markdown",
   "metadata": {},
   "source": [
    " ## Tackling overfitting via regularization: bias-variance trade-off\n",
    " \n",
    " 1. Overfitting: a model performs well on training data but does not generalize well to unseen data; model with high variance, which can be caused by having too many parameters that lead to a model that is too complex given the underlying data;\n",
    " 2. Underfitting: a model is not complex enough to capture the pattern in the training data well and therefore also suffers from low performance on unseen data;\n",
    " 3. Variance: measures the consistency of the model prediction for a particular sample instance if we were to retrain the model multiple times; model is sensitive to the randomness in the training data;\n",
    " 4. Bias: measures how far off the predictions are from the correct values in general if we rebuild the model multiple times on different training datasets; it is a measure of systematic erros that is not dut to randomeness;"
   ]
  },
  {
   "cell_type": "markdown",
   "metadata": {},
   "source": [
    "### Regularization\n",
    "\n",
    "- a technique to handle collinearity, filter out noise from data and eventually prevent overfitting\n",
    "- introcduce additional information (bias) to pernalize extreme parameter(weight) values\n",
    "- **L1 regularization:** $\\lambda||w||_1 = \\lambda\\sum_{j=1}^{m}|w_j|$ penalizes large individual weights\n",
    "- **L2 regularization:** $\\lambda||w||_2^2 = \\lambda\\sum_{j=1}^{m}w_j^2$ usually yields sparse feature vectors -- feautre selection, and applies to high-dimensional dataset with many feautres that are irrelevant\n",
    "- $\\lambda$: regularization parameter. In sklearn, C is the inverse of $\\lambda$, $ C = \\frac{1}{\\lambda}$\n",
    "- **Note:** feature scaling before regularization"
   ]
  },
  {
   "cell_type": "code",
   "execution_count": null,
   "metadata": {},
   "outputs": [],
   "source": []
  }
 ],
 "metadata": {
  "kernelspec": {
   "display_name": "Python 3",
   "language": "python",
   "name": "python3"
  },
  "language_info": {
   "codemirror_mode": {
    "name": "ipython",
    "version": 3
   },
   "file_extension": ".py",
   "mimetype": "text/x-python",
   "name": "python",
   "nbconvert_exporter": "python",
   "pygments_lexer": "ipython3",
   "version": "3.7.4"
  }
 },
 "nbformat": 4,
 "nbformat_minor": 2
}
