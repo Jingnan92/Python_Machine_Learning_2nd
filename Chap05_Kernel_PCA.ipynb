{
 "cells": [
  {
   "cell_type": "markdown",
   "metadata": {},
   "source": [
    "# Kernel Principal Component Analysis for Nonlinear Mappings"
   ]
  },
  {
   "cell_type": "markdown",
   "metadata": {},
   "source": [
    "## Algorithm\n",
    "\n",
    "- We perform a nonlinear mappping via kernal PCA that transforms the data onto a higher-dimensional space. We then use standard PCA in this higher-dimensional space to project the data back onto a lower-dimensional space where samples can be seperated by a linear classifier.\n",
    "\n",
    "- **Kernel traick:** to improve the computational efficiency. Using kernel trick, we can compute the similarity between two high-mension features vectors in the original feature space.\n",
    "\n",
    "- Kernel function: a function that calculates a dot product between two vectors -- a measure of similarity\n",
    "    1. Polynomial kernel\n",
    "    2. Hyperbolic tangent(sigmoid) kernal\n",
    "    3. Radial basis function"
   ]
  },
  {
   "cell_type": "markdown",
   "metadata": {},
   "source": [
    "## Kernel PCA in Sklearn\n",
    "\n",
    "sklearn.decomposition.KernelPCA(n_components=None, *, kernel='linear', gamma=None, degree=3, coef0=1, kernel_params=None, alpha=1.0, fit_inverse_transform=False, eigen_solver='auto', tol=0, max_iter=None, remove_zero_eig=False, random_state=None, copy_X=True, n_jobs=None)\n",
    "\n",
    "Parameters:\n",
    "- n_components: umber of components. If None, all non-zero components are kept, default = None\n",
    "- kernel: “linear” | “poly” | “rbf” | “sigmoid” | “cosine” | “precomputed”, default = 'linear'\n",
    "- gamma: Kernel coefficient for rbf, poly and sigmoid kernels, default = 1/n_features\n"
   ]
  },
  {
   "cell_type": "code",
   "execution_count": 1,
   "metadata": {},
   "outputs": [],
   "source": [
    "from sklearn.datasets import make_moons\n",
    "from sklearn.decomposition import KernelPCA\n",
    "\n",
    "X, y = make_moons(n_samples = 100, random_state = 123)\n",
    "kpca = KernelPCA(n_components = 2, kernel = 'rbf', gamma = 15)\n",
    "X_kpca = kpca.fit_transform(X)"
   ]
  },
  {
   "cell_type": "code",
   "execution_count": 2,
   "metadata": {},
   "outputs": [
    {
     "data": {
      "text/plain": [
       "array([[ 8.71318704e-01,  4.90717552e-01],\n",
       "       [ 7.15472413e-01, -4.58667853e-01],\n",
       "       [ 1.46253829e+00, -3.86599306e-01],\n",
       "       [-2.22520934e-01,  9.74927912e-01],\n",
       "       [ 3.27699110e-01, -2.40277997e-01],\n",
       "       [ 1.00000000e+00,  0.00000000e+00],\n",
       "       [ 9.49055747e-01,  3.15108218e-01],\n",
       "       [ 0.00000000e+00,  5.00000000e-01],\n",
       "       [ 1.40478334e+00, -4.14412623e-01],\n",
       "       [ 9.67294863e-01,  2.53654584e-01],\n",
       "       [ 9.60230259e-02,  9.95379113e-01],\n",
       "       [ 4.27883340e-01, -3.20172255e-01],\n",
       "       [ 1.09602303e+00, -4.95379113e-01],\n",
       "       [ 1.98586378e-01, -9.81105305e-02],\n",
       "       [ 3.20515776e-02,  9.99486216e-01],\n",
       "       [-9.00968868e-01,  4.33883739e-01],\n",
       "       [ 1.15959990e+00, -4.87181783e-01],\n",
       "       [-7.61445958e-01,  6.48228395e-01],\n",
       "       [ 7.30832427e-02,  1.24732995e-01],\n",
       "       [ 1.03205158e+00, -4.99486216e-01],\n",
       "       [-6.23489802e-01,  7.81831482e-01],\n",
       "       [ 1.76144596e+00, -1.48228395e-01],\n",
       "       [ 3.45365054e-01,  9.38468422e-01],\n",
       "       [-2.84527587e-01,  9.58667853e-01],\n",
       "       [-4.04783343e-01,  9.14412623e-01],\n",
       "       [ 1.87131870e+00,  9.28244800e-03],\n",
       "       [ 1.62348980e+00, -2.81831482e-01],\n",
       "       [ 8.38088105e-01,  5.45534901e-01],\n",
       "       [ 1.84408430e-02,  3.08841371e-01],\n",
       "       [-8.71318704e-01,  4.90717552e-01],\n",
       "       [ 2.22520934e-01,  9.74927912e-01],\n",
       "       [ 1.83808810e+00, -4.55349012e-02],\n",
       "       [-5.18392568e-01,  8.55142763e-01],\n",
       "       [ 6.54634946e-01, -4.38468422e-01],\n",
       "       [ 1.57211666e+00, -3.20172255e-01],\n",
       "       [ 1.71834935e+00, -1.95682551e-01],\n",
       "       [ 1.96729486e+00,  2.46345416e-01],\n",
       "       [ 1.99179001e+00,  3.72122838e-01],\n",
       "       [ 2.81650650e-01, -1.95682551e-01],\n",
       "       [ 7.18349350e-01,  6.95682551e-01],\n",
       "       [ 2.84527587e-01,  9.58667853e-01],\n",
       "       [ 1.80141362e+00, -9.81105305e-02],\n",
       "       [-7.18349350e-01,  6.95682551e-01],\n",
       "       [ 1.61911895e-01, -4.55349012e-02],\n",
       "       [ 9.97945393e-01,  6.40702200e-02],\n",
       "       [ 9.67948422e-01, -4.99486216e-01],\n",
       "       [ 7.61445958e-01,  6.48228395e-01],\n",
       "       [ 1.28452759e+00, -4.58667853e-01],\n",
       "       [ 6.23489802e-01,  7.81831482e-01],\n",
       "       [ 3.27051370e-02,  2.46345416e-01],\n",
       "       [ 5.18392568e-01,  8.55142763e-01],\n",
       "       [-9.60230259e-02,  9.95379113e-01],\n",
       "       [ 2.05460725e-03,  4.35929780e-01],\n",
       "       [-9.67294863e-01,  2.53654584e-01],\n",
       "       [ 9.26916757e-01,  3.75267005e-01],\n",
       "       [ 1.99794539e+00,  4.35929780e-01],\n",
       "       [-3.45365054e-01,  9.38468422e-01],\n",
       "       [-9.49055747e-01,  3.15108218e-01],\n",
       "       [ 8.40400105e-01, -4.87181783e-01],\n",
       "       [-9.26916757e-01,  3.75267005e-01],\n",
       "       [ 5.72116660e-01,  8.20172255e-01],\n",
       "       [ 1.94905575e+00,  1.84891782e-01],\n",
       "       [ 4.04783343e-01,  9.14412623e-01],\n",
       "       [ 6.72300890e-01,  7.40277997e-01],\n",
       "       [ 1.59599895e-01,  9.87181783e-01],\n",
       "       [ 8.01413622e-01,  5.98110530e-01],\n",
       "       [ 1.28681296e-01,  9.28244800e-03],\n",
       "       [ 7.77479066e-01, -4.74927912e-01],\n",
       "       [ 3.76510198e-01, -2.81831482e-01],\n",
       "       [ 9.81559157e-01,  1.91158629e-01],\n",
       "       [-8.38088105e-01,  5.45534901e-01],\n",
       "       [-5.72116660e-01,  8.20172255e-01],\n",
       "       [-1.59599895e-01,  9.87181783e-01],\n",
       "       [ 8.20998618e-03,  3.72122838e-01],\n",
       "       [ 9.00968868e-01,  4.33883739e-01],\n",
       "       [-9.97945393e-01,  6.40702200e-02],\n",
       "       [ 2.38554042e-01, -1.48228395e-01],\n",
       "       [ 1.92691676e+00,  1.24732995e-01],\n",
       "       [ 2.00000000e+00,  5.00000000e-01],\n",
       "       [-8.01413622e-01,  5.98110530e-01],\n",
       "       [ 9.91790014e-01,  1.27877162e-01],\n",
       "       [ 5.37461710e-01, -3.86599306e-01],\n",
       "       [ 5.09442530e-02,  1.84891782e-01],\n",
       "       [-1.00000000e+00,  1.22464680e-16],\n",
       "       [ 5.95216657e-01, -4.14412623e-01],\n",
       "       [ 1.34536505e+00, -4.38468422e-01],\n",
       "       [-6.72300890e-01,  7.40277997e-01],\n",
       "       [ 1.22252093e+00, -4.74927912e-01],\n",
       "       [ 1.98155916e+00,  3.08841371e-01],\n",
       "       [-3.20515776e-02,  9.99486216e-01],\n",
       "       [-9.81559157e-01,  1.91158629e-01],\n",
       "       [-4.62538290e-01,  8.86599306e-01],\n",
       "       [ 9.03976974e-01, -4.95379113e-01],\n",
       "       [-9.91790014e-01,  1.27877162e-01],\n",
       "       [ 1.67230089e+00, -2.40277997e-01],\n",
       "       [ 9.90311321e-02,  6.61162609e-02],\n",
       "       [ 1.51839257e+00, -3.55142763e-01],\n",
       "       [ 4.62538290e-01,  8.86599306e-01],\n",
       "       [ 1.90096887e+00,  6.61162609e-02],\n",
       "       [ 4.81607432e-01, -3.55142763e-01]])"
      ]
     },
     "execution_count": 2,
     "metadata": {},
     "output_type": "execute_result"
    }
   ],
   "source": [
    "X"
   ]
  },
  {
   "cell_type": "code",
   "execution_count": 6,
   "metadata": {},
   "outputs": [
    {
     "data": {
      "text/plain": [
       "<matplotlib.collections.PathCollection at 0x7fcb1ddbb110>"
      ]
     },
     "execution_count": 6,
     "metadata": {},
     "output_type": "execute_result"
    },
    {
     "data": {
      "image/png": "[encoded data removed]",
      "text/plain": [
       "<Figure size 432x288 with 1 Axes>"
      ]
     },
     "metadata": {
      "needs_background": "light"
     },
     "output_type": "display_data"
    }
   ],
   "source": [
    "from matplotlib import pyplot as plt\n",
    "plt.scatter(X[y == 0, 0], X[y == 0, 1], color='red', marker='^', alpha=0.5)\n",
    "plt.scatter(X[y == 1, 0], X[y == 1, 1], color='blue', marker='o', alpha=0.5)\n"
   ]
  },
  {
   "cell_type": "code",
   "execution_count": 8,
   "metadata": {},
   "outputs": [
    {
     "data": {
      "image/png": "[encoded data removed]",
      "text/plain": [
       "<Figure size 432x288 with 1 Axes>"
      ]
     },
     "metadata": {
      "needs_background": "light"
     },
     "output_type": "display_data"
    }
   ],
   "source": [
    "plt.scatter(X_kpca[y == 0, 0], X_kpca[y == 0, 1],\n",
    "            color='red', marker='^', alpha=0.5)\n",
    "plt.scatter(X_kpca[y == 1, 0], X_kpca[y == 1, 1],\n",
    "            color='blue', marker='o', alpha=0.5)\n",
    "\n",
    "plt.xlabel('PC1')\n",
    "plt.ylabel('PC2')\n",
    "plt.tight_layout()\n",
    "plt.show()"
   ]
  },
  {
   "cell_type": "code",
   "execution_count": null,
   "metadata": {},
   "outputs": [],
   "source": []
  }
 ],
 "metadata": {
  "kernelspec": {
   "display_name": "Python 3",
   "language": "python",
   "name": "python3"
  },
  "language_info": {
   "codemirror_mode": {
    "name": "ipython",
    "version": 3
   },
   "file_extension": ".py",
   "mimetype": "text/x-python",
   "name": "python",
   "nbconvert_exporter": "python",
   "pygments_lexer": "ipython3",
   "version": "3.7.4"
  }
 },
 "nbformat": 4,
 "nbformat_minor": 2
}
